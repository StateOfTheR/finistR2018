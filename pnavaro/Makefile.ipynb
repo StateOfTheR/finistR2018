{
 "cells": [
  {
   "cell_type": "code",
   "execution_count": 65,
   "metadata": {
    "slideshow": {
     "slide_type": "slide"
    }
   },
   "outputs": [
    {
     "name": "stdout",
     "output_type": "stream",
     "text": [
      "Overwriting main.cpp\n"
     ]
    }
   ],
   "source": [
    "%%file main.cpp\n",
    "void operations();\n",
    "\n",
    "int main(int argc, const char **argv) {\n",
    "\n",
    "    operations();\n",
    "    \n",
    "    return 0;\n",
    "}\n"
   ]
  },
  {
   "cell_type": "code",
   "execution_count": 66,
   "metadata": {
    "slideshow": {
     "slide_type": "slide"
    }
   },
   "outputs": [
    {
     "name": "stdout",
     "output_type": "stream",
     "text": [
      "Overwriting obj_armadillo.cpp\n"
     ]
    }
   ],
   "source": [
    "%%file obj_armadillo.cpp\n",
    "#include <iostream>\n",
    "#include <armadillo>\n",
    "\n",
    "void operations() {\n",
    "    // Initialize the random generator\n",
    "    arma::arma_rng::set_seed_random();\n",
    "    \n",
    "    // Create a 4x4 random matrix and print it on the screen\n",
    "    arma::Mat<double> A = arma::randu(4,4);\n",
    "    std::cout << \"A:\\n\" << A << \"\\n\";\n",
    "    \n",
    "    // Multiply A with his transpose:\n",
    "    std::cout << \"A * A.t() =\\n\";\n",
    "    std::cout << A * A.t() << \"\\n\";\n",
    "    \n",
    "    // Access/Modify rows and columns from the array:\n",
    "    A.row(0) = A.row(1) + A.row(3);\n",
    "    A.col(3).zeros();\n",
    "    std::cout << \"add rows 1 and 3, store result in row 0, also fill 4th column with zeros:\\n\";\n",
    "    std::cout << \"A:\\n\" << A << \"\\n\";\n",
    "    \n",
    "    // Create a new diagonal matrix using the main diagonal of A:\n",
    "    arma::Mat<double>B = arma::diagmat(A);\n",
    "    std::cout << \"B:\\n\" << B << \"\\n\";\n",
    "    \n",
    "    // Save matrices A and B:\n",
    "    A.save(\"A_mat.txt\", arma::arma_ascii);\n",
    "    B.save(\"B_mat.txt\", arma::arma_ascii);\n",
    "    \n",
    "}"
   ]
  },
  {
   "cell_type": "code",
   "execution_count": 67,
   "metadata": {
    "slideshow": {
     "slide_type": "slide"
    }
   },
   "outputs": [],
   "source": [
    "%%bash\n",
    "mpic++ -c obj_armadillo.cpp -I/usr/local/include # create the file obj_armadillo.o\n",
    "mpic++ -o exe_armadillo main.cpp op_armadillo.o -L/usr/local/lib -larmadillo # create the executable exe_armadillo.o"
   ]
  },
  {
   "cell_type": "markdown",
   "metadata": {
    "slideshow": {
     "slide_type": "fragment"
    }
   },
   "source": [
    "- Use mpic++ because hdf5 is built with MPI and armadillo depends on hdf5."
   ]
  },
  {
   "cell_type": "code",
   "execution_count": 68,
   "metadata": {
    "slideshow": {
     "slide_type": "slide"
    }
   },
   "outputs": [
    {
     "name": "stdout",
     "output_type": "stream",
     "text": [
      "A:\n",
      "   0.0277   0.4879   0.6486   0.5863\n",
      "   0.0358   0.7626   0.3733   0.2846\n",
      "   0.9130   0.1088   0.6910   0.7983\n",
      "   0.1140   0.4107   0.4355   0.7647\n",
      "\n",
      "A * A.t() =\n",
      "   1.0033   0.7821   0.9947   0.9344\n",
      "   0.7821   0.8032   0.6008   0.6975\n",
      "   0.9947   0.6008   1.9602   1.0602\n",
      "   0.9344   0.6975   1.0602   0.9561\n",
      "\n",
      "add rows 1 and 3, store result in row 0, also fill 4th column with zeros:\n",
      "A:\n",
      "   0.1498   1.1733   0.8088        0\n",
      "   0.0358   0.7626   0.3733        0\n",
      "   0.9130   0.1088   0.6910        0\n",
      "   0.1140   0.4107   0.4355        0\n",
      "\n",
      "B:\n",
      "   0.1498        0        0        0\n",
      "        0   0.7626        0        0\n",
      "        0        0   0.6910        0\n",
      "        0        0        0        0\n",
      "\n"
     ]
    }
   ],
   "source": [
    "%%bash\n",
    "./exe_armadillo\n",
    "rm ./exe_armadillo"
   ]
  },
  {
   "cell_type": "code",
   "execution_count": 86,
   "metadata": {
    "slideshow": {
     "slide_type": "slide"
    }
   },
   "outputs": [
    {
     "name": "stdout",
     "output_type": "stream",
     "text": [
      "Overwriting Makefile\n"
     ]
    }
   ],
   "source": [
    "%%file Makefile\n",
    "\n",
    "default: exe_armadillo\n",
    "\n",
    "obj_armadillo.o: obj_armadillo.cpp\n",
    "\tmpic++ -o $@ $^ -I/usr/local/include \n",
    "    \n",
    "exe_armadillo: main.cpp obj_armadillo.o\n",
    "\tmpic++ -o $@ $^ -L/usr/local/lib -larmadillo\n",
    "    \n",
    "clean:\n",
    "\trm *.txt *.o exe_armadillo"
   ]
  },
  {
   "cell_type": "code",
   "execution_count": 87,
   "metadata": {
    "slideshow": {
     "slide_type": "slide"
    }
   },
   "outputs": [
    {
     "name": "stdout",
     "output_type": "stream",
     "text": [
      "make: Nothing to be done for `default'.\n",
      "A:\n",
      "   0.1513   0.1797   0.6259   0.5528\n",
      "   0.1936   0.6531   0.7777   0.5463\n",
      "   0.5735   0.2766   0.2566   0.1066\n",
      "   0.3642   0.5648   0.8848   0.0452\n",
      "\n",
      "A * A.t() =\n",
      "   0.7526   0.9354   0.3560   0.7354\n",
      "   0.9354   1.3672   0.5495   1.1522\n",
      "   0.3560   0.5495   0.4827   0.5969\n",
      "   0.7354   1.1522   0.5969   1.2365\n",
      "\n",
      "add rows 1 and 3, store result in row 0, also fill 4th column with zeros:\n",
      "A:\n",
      "   0.5578   1.2179   1.6625        0\n",
      "   0.1936   0.6531   0.7777        0\n",
      "   0.5735   0.2766   0.2566        0\n",
      "   0.3642   0.5648   0.8848        0\n",
      "\n",
      "B:\n",
      "   0.5578        0        0        0\n",
      "        0   0.6531        0        0\n",
      "        0        0   0.2566        0\n",
      "        0        0        0        0\n",
      "\n",
      "rm *.txt *.o exe_armadillo\n"
     ]
    }
   ],
   "source": [
    "%%bash\n",
    "make\n",
    "./exe_armadillo\n",
    "make clean"
   ]
  },
  {
   "cell_type": "code",
   "execution_count": 88,
   "metadata": {
    "slideshow": {
     "slide_type": "slide"
    }
   },
   "outputs": [
    {
     "name": "stdout",
     "output_type": "stream",
     "text": [
      "Overwriting Makefile\n"
     ]
    }
   ],
   "source": [
    "%%file Makefile\n",
    "\n",
    "default: exe_armadillo\n",
    "\n",
    "CXX                 = mpic++\n",
    "ARMADILLO_INCDIR   = /usr/local/include\n",
    "ARMADILLO_LIBDIR   = /usr/local/lib\n",
    "ARMADILLO_INC_FLAGS = -I${ARMADILLO_INCDIR}\n",
    "ARMADILLO_LIB_FLAGS = -L${ARMADILLO_LIBDIR} -larmadillo\n",
    "\n",
    "obj_armadillo.o: obj_armadillo.cpp\n",
    "\t${CXX} -c -o $@ $^ ${ARMADILLO_INC_FLAGS} \n",
    "    \n",
    "exe_armadillo: main.cpp obj_armadillo.o\n",
    "\t${CXX} -o $@ $^ ${ARMADILLO_LIB_FLAGS}\n",
    "    \n",
    "clean:\n",
    "\trm *.txt *.o exe_armadillo\n"
   ]
  },
  {
   "cell_type": "code",
   "execution_count": 89,
   "metadata": {
    "slideshow": {
     "slide_type": "slide"
    }
   },
   "outputs": [
    {
     "name": "stdout",
     "output_type": "stream",
     "text": [
      "mpic++ -c -o obj_armadillo.o obj_armadillo.cpp -I/usr/local/include \n",
      "mpic++ -o exe_armadillo main.cpp obj_armadillo.o -L/usr/local/lib -larmadillo\n",
      "A:\n",
      "   0.1990   0.1133   0.2386   0.7978\n",
      "   0.9063   0.5379   0.4764   0.8109\n",
      "   0.6988   0.2131   0.7520   0.4610\n",
      "   0.3727   0.6988   0.1604   0.7628\n",
      "\n",
      "A * A.t() =\n",
      "   0.7458   1.0019   0.7104   0.8001\n",
      "   1.0019   1.9953   1.4800   1.4087\n",
      "   0.7104   1.4800   1.3117   0.8816\n",
      "   0.8001   1.4087   0.8816   1.2348\n",
      "\n",
      "add rows 1 and 3, store result in row 0, also fill 4th column with zeros:\n",
      "A:\n",
      "   1.2790   1.2368   0.6368        0\n",
      "   0.9063   0.5379   0.4764        0\n",
      "   0.6988   0.2131   0.7520        0\n",
      "   0.3727   0.6988   0.1604        0\n",
      "\n",
      "B:\n",
      "   1.2790        0        0        0\n",
      "        0   0.5379        0        0\n",
      "        0        0   0.7520        0\n",
      "        0        0        0        0\n",
      "\n",
      "rm *.txt *.o exe_armadillo\n"
     ]
    }
   ],
   "source": [
    "%%bash\n",
    "make\n",
    "./exe_armadillo\n",
    "make clean"
   ]
  },
  {
   "cell_type": "code",
   "execution_count": 90,
   "metadata": {
    "slideshow": {
     "slide_type": "slide"
    }
   },
   "outputs": [
    {
     "name": "stdout",
     "output_type": "stream",
     "text": [
      "Overwriting Makefile\n"
     ]
    }
   ],
   "source": [
    "%%file Makefile\n",
    "\n",
    "default: exe_armadillo\n",
    "\n",
    "CXX                 = mpic++\n",
    "ARMADILLO_INCDIR   = /usr/local/include\n",
    "ARMADILLO_LIBDIR   = /usr/local/lib\n",
    "ARMADILLO_INC_FLAGS = -I${ARMADILLO_INCDIR}\n",
    "ARMADILLO_LIB_FLAGS = -L${ARMADILLO_LIBDIR} -larmadillo\n",
    "\n",
    "ex_armadillo.o: ex_armadillo.cpp\n",
    "\n",
    ".cpp.o:\n",
    "\t$(CXX) $(CXXFLAGS) -c $< -o $@\n",
    "    \n",
    "exe_armadillo: main.cpp obj_armadillo.o\n",
    "\t${CXX} -o $@ $^ ${ARMADILLO_LIB_FLAGS}\n",
    "    \n",
    "clean:\n",
    "\trm *.txt *.o exe_armadillo"
   ]
  },
  {
   "cell_type": "code",
   "execution_count": 92,
   "metadata": {
    "slideshow": {
     "slide_type": "slide"
    }
   },
   "outputs": [
    {
     "name": "stdout",
     "output_type": "stream",
     "text": [
      "mpic++ -o exe_armadillo main.cpp obj_armadillo.o -L/usr/local/lib -larmadillo\n",
      "A:\n",
      "   0.8177   0.2746   0.9671   0.3559\n",
      "   0.4526   0.0402   0.8444   0.9793\n",
      "   0.5124   0.2711   0.0477   0.9209\n",
      "   0.9632   0.1970   0.0192   0.8532\n",
      "\n",
      "A * A.t() =\n",
      "   1.8060   1.5463   0.8673   1.1639\n",
      "   1.5463   1.8785   1.1849   1.2957\n",
      "   0.8673   1.1849   1.1863   1.3336\n",
      "   1.1639   1.2957   1.3336   1.6950\n",
      "\n",
      "add rows 1 and 3, store result in row 0, also fill 4th column with zeros:\n",
      "A:\n",
      "   1.4159   0.2372   0.8636        0\n",
      "   0.4526   0.0402   0.8444        0\n",
      "   0.5124   0.2711   0.0477        0\n",
      "   0.9632   0.1970   0.0192        0\n",
      "\n",
      "B:\n",
      "   1.4159        0        0        0\n",
      "        0   0.0402        0        0\n",
      "        0        0   0.0477        0\n",
      "        0        0        0        0\n",
      "\n",
      "rm *.txt *.o exe_armadillo\n"
     ]
    }
   ],
   "source": [
    "%%bash\n",
    "make\n",
    "./exe_armadillo\n",
    "make clean"
   ]
  }
 ],
 "metadata": {
  "celltoolbar": "Slideshow",
  "kernelspec": {
   "display_name": "Python 3",
   "language": "python",
   "name": "python3"
  },
  "language_info": {
   "codemirror_mode": {
    "name": "ipython",
    "version": 3
   },
   "file_extension": ".py",
   "mimetype": "text/x-python",
   "name": "python",
   "nbconvert_exporter": "python",
   "pygments_lexer": "ipython3",
   "version": "3.7.0"
  }
 },
 "nbformat": 4,
 "nbformat_minor": 2
}
