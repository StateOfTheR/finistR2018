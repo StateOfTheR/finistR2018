{
 "cells": [
  {
   "cell_type": "markdown",
   "metadata": {
    "slideshow": {
     "slide_type": "slide"
    }
   },
   "source": [
    "# Binder \n",
    "\n",
    "- This is a free, public demo of BinderHub the software BinderHub.\n",
    "- Binder is a service that provides to your code, the hardware, and the software.\n"
   ]
  },
  {
   "cell_type": "markdown",
   "metadata": {
    "slideshow": {
     "slide_type": "slide"
    }
   },
   "source": [
    "# Preparing a repository for Binder\n",
    "\n",
    "## Supported configuration files list in the order of build priority\n",
    "\n",
    "- Dockerfile\n",
    "- environment.yml  \n",
    "- requirements.txt \n",
    "- apt.txt\n",
    "- REQUIRE\n",
    "- postBuild"
   ]
  },
  {
   "cell_type": "markdown",
   "metadata": {
    "slideshow": {
     "slide_type": "slide"
    }
   },
   "source": [
    "## environment.yml\n",
    "\n",
    "This is a conda environment specification, that lets you install packages with conda (https://conda.io/docs/).\n",
    "\n",
    "Example Contents\n",
    "~~~\n",
    "channels:\n",
    "  - conda-forge\n",
    "  - defaults\n",
    "dependencies:\n",
    "  - matplotlib\n",
    "  - pip:\n",
    "    - pythran\n",
    "~~~"
   ]
  },
  {
   "cell_type": "markdown",
   "metadata": {
    "slideshow": {
     "slide_type": "slide"
    }
   },
   "source": [
    "## requirements.txt\n",
    "\n",
    "This specifies a list of Python packages that should be installed in a virtualenv (or conda environment).\n",
    "\n",
    "Example Contents\n",
    "\n",
    "~~~\n",
    "numpy==1.11\n",
    "matplotlib==2.1\n",
    "scipy\n",
    "~~~"
   ]
  },
  {
   "cell_type": "markdown",
   "metadata": {
    "slideshow": {
     "slide_type": "slide"
    }
   },
   "source": [
    "## apt.txt\n",
    "\n",
    "A list of Debian packages that should be installed. The base image used is usually the latest released version of Ubuntu.\n",
    "\n",
    "Example Contents\n",
    "\n",
    "~~~\n",
    "ffmpeg\n",
    "graphviz\n",
    "~~~"
   ]
  },
  {
   "cell_type": "markdown",
   "metadata": {
    "slideshow": {
     "slide_type": "slide"
    }
   },
   "source": [
    "## REQUIRE\n",
    "\n",
    "This file is dedicated to Julia language. It install julia 0.6 and packages listed in this file.\n",
    "\n",
    "Example Contents\n",
    "\n",
    "~~~\n",
    "Optim\n",
    "Plots\n",
    "~~~\n"
   ]
  },
  {
   "cell_type": "markdown",
   "metadata": {
    "slideshow": {
     "slide_type": "slide"
    }
   },
   "source": [
    "## postBuild\n",
    "A script that can contain arbitrary commands to be run after the whole repository has been built. If you want this to be a shell script, make sure the first line is `#!/bin/bash`.\n",
    "\n",
    "Example Contents\n",
    "\n",
    "~~~\n",
    "wget <url-to-dataset>\n",
    "python myfile.py\n",
    "~~~\n",
    "\n",
    "### Note:\n",
    "This file must be executable.\n",
    "```"
   ]
  },
  {
   "cell_type": "markdown",
   "metadata": {
    "slideshow": {
     "slide_type": "slide"
    }
   },
   "source": [
    "## Launching your Binder\n",
    "\n",
    "- Go to mybinder.org and insert the URL for your git repository. \n",
    "- Press Launch to automatically create your Binder. \n",
    "- Binder will only build a new one if the git hashes don’t match.\n"
   ]
  },
  {
   "cell_type": "markdown",
   "metadata": {
    "slideshow": {
     "slide_type": "slide"
    }
   },
   "source": [
    "## JupyterLab + Binder\n",
    "\n",
    "1. Launch a Binder instance"
   ]
  },
  {
   "cell_type": "markdown",
   "metadata": {
    "slideshow": {
     "slide_type": "fragment"
    }
   },
   "source": [
    "2. Replace tree at the end of your URL with lab.\n",
    "```\n",
    "https://hub.mybinder.org/user/groupecalcul-canum-2018-la7iw4x1/tree\n",
    "```\n"
   ]
  },
  {
   "cell_type": "markdown",
   "metadata": {
    "slideshow": {
     "slide_type": "fragment"
    }
   },
   "source": [
    "3. That’s it!\n",
    "```\n",
    "https://hub.mybinder.org/user/groupecalcul-canum-2018-la7iw4x1/lab\n",
    "```"
   ]
  },
  {
   "cell_type": "markdown",
   "metadata": {
    "slideshow": {
     "slide_type": "slide"
    }
   },
   "source": [
    "## Want to setup your own copy of mybinder.org? \n",
    "\n",
    "Then look at BinderHub and the \"[Zero to BinderHub](https://zero-to-jupyterhub.readthedocs.io/en/latest/index.html)\" guide "
   ]
  },
  {
   "cell_type": "markdown",
   "metadata": {
    "slideshow": {
     "slide_type": "slide"
    }
   },
   "source": [
    " ## Remarks\n",
    " \n",
    " - Everything that happens in a Binder session is destroyed when the user logs off or becomes inactive for more than a few minutes.\n",
    " "
   ]
  },
  {
   "cell_type": "markdown",
   "metadata": {
    "slideshow": {
     "slide_type": "fragment"
    }
   },
   "source": [
    " - Never share sensitive or personal information within a Binder repository.\n",
    " "
   ]
  },
  {
   "cell_type": "markdown",
   "metadata": {
    "slideshow": {
     "slide_type": "fragment"
    }
   },
   "source": [
    " - The maximum number of simultaneous users for a given repo is 100\n",
    " "
   ]
  },
  {
   "cell_type": "markdown",
   "metadata": {
    "slideshow": {
     "slide_type": "slide"
    }
   },
   "source": [
    " - You are guaranteed to have at least 1G of RAM. There is an upper-limit of 4GB.\n",
    " "
   ]
  },
  {
   "cell_type": "markdown",
   "metadata": {
    "slideshow": {
     "slide_type": "fragment"
    }
   },
   "source": [
    " - Binder automatically shut down user sessions that have more than 10 minutes of inactivity\n",
    " "
   ]
  },
  {
   "cell_type": "markdown",
   "metadata": {
    "slideshow": {
     "slide_type": "fragment"
    }
   },
   "source": [
    " - Binder aims to provide at least 12 hours of session time per user session.\n",
    " "
   ]
  },
  {
   "cell_type": "markdown",
   "metadata": {
    "slideshow": {
     "slide_type": "slide"
    }
   },
   "source": [
    " - Do not push information from a Binder session onto GitHub.\n",
    " "
   ]
  },
  {
   "cell_type": "markdown",
   "metadata": {
    "slideshow": {
     "slide_type": "fragment"
    }
   },
   "source": [
    " - Configuration files may be placed in the root of your repository or in a **binder/** folder."
   ]
  },
  {
   "cell_type": "markdown",
   "metadata": {
    "slideshow": {
     "slide_type": "slide"
    }
   },
   "source": [
    "## Need some examples or want to start from a working setup? \n",
    "\n",
    "A lots of examples that work Python, R, Latex, conda, docker...\n",
    "\n",
    "http://mybinder.readthedocs.io/en/latest/sample_repos.html"
   ]
  }
 ],
 "metadata": {
  "celltoolbar": "Slideshow",
  "kernelspec": {
   "display_name": "Python 3",
   "language": "python",
   "name": "python3"
  },
  "language_info": {
   "codemirror_mode": {
    "name": "ipython",
    "version": 3
   },
   "file_extension": ".py",
   "mimetype": "text/x-python",
   "name": "python",
   "nbconvert_exporter": "python",
   "pygments_lexer": "ipython3",
   "version": "3.7.0"
  }
 },
 "nbformat": 4,
 "nbformat_minor": 2
}
