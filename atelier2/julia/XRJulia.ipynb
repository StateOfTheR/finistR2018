{
 "cells": [
  {
   "cell_type": "markdown",
   "metadata": {},
   "source": [
    "- [Writing Julia functions in R with examples](https://insightr.wordpress.com/2017/10/18/writing-julia-functions-in-r-with-examples/)\n",
    "- [XRJulia CRAN](https://cran.r-project.org/web/packages/XRJulia/index.html)\n",
    "- [XRJulia GitHub](https://github.com/johnmchambers/XRJulia)"
   ]
  },
  {
   "cell_type": "code",
   "execution_count": 12,
   "metadata": {
    "scrolled": true
   },
   "outputs": [
    {
     "name": "stderr",
     "output_type": "stream",
     "text": [
      "Updating HTML index of packages in '.Library'\n",
      "Making 'packages.html' ... done\n"
     ]
    }
   ],
   "source": [
    "install.packages(\"XRJulia\")"
   ]
  },
  {
   "cell_type": "code",
   "execution_count": 13,
   "metadata": {},
   "outputs": [],
   "source": [
    "library(XRJulia)"
   ]
  },
  {
   "cell_type": "code",
   "execution_count": 14,
   "metadata": {},
   "outputs": [],
   "source": [
    "Sys.setenv(JULIA_BIN = \"/Applications/JuliaPro-0.6.4.1.app/Contents/Resources/julia/Contents/Resources/julia/bin/julia\")"
   ]
  },
  {
   "cell_type": "code",
   "execution_count": 20,
   "metadata": {},
   "outputs": [
    {
     "data": {
      "text/html": [
       "TRUE"
      ],
      "text/latex": [
       "TRUE"
      ],
      "text/markdown": [
       "TRUE"
      ],
      "text/plain": [
       "[1] TRUE"
      ]
     },
     "metadata": {},
     "output_type": "display_data"
    }
   ],
   "source": [
    "findJulia(test = TRUE)"
   ]
  },
  {
   "cell_type": "code",
   "execution_count": 21,
   "metadata": {},
   "outputs": [],
   "source": [
    "optim = juliaEval(\"using Optim\")"
   ]
  },
  {
   "cell_type": "code",
   "execution_count": 24,
   "metadata": {},
   "outputs": [],
   "source": [
    "rosenbrock <- juliaEval(\"\n",
    "function rosenbrock(x)\n",
    "(1.0-x[1])^2 + 100.0*(x[2]-x[1]^2)^2\n",
    "end\n",
    "\")"
   ]
  },
  {
   "cell_type": "code",
   "execution_count": 26,
   "metadata": {},
   "outputs": [],
   "source": [
    "result <- juliaEval(\"optimize(rosenbrock, zeros(2), BFGS())\")"
   ]
  },
  {
   "cell_type": "code",
   "execution_count": 29,
   "metadata": {},
   "outputs": [],
   "source": [
    "JLreg=juliaGet(result)"
   ]
  },
  {
   "cell_type": "code",
   "execution_count": 30,
   "metadata": {},
   "outputs": [
    {
     "data": {
      "text/plain": [
       "R conversion of Julia object of composite type “Optim.MultivariateOptimizationResults{Optim.BFGS{LineSearches.InitialStatic{Float64},LineSearches.HagerZhang{Float64,Base.RefValue{Bool}},Optim.##23#25},Float64,Array{Float64,1},Float64,Float64,Array{Optim.OptimizationState{Float64,Optim.BFGS{LineSearches.InitialStatic{Float64},LineSearches.HagerZhang{Float64,Base.RefValue{Bool}},Optim.##23#25}},1}}”\n",
       "\n",
       "Julia fields:\n",
       "$initial_x\n",
       "[1] 0 0\n",
       "\n",
       "$method\n",
       "R conversion of Julia object of composite type “Optim.BFGS{LineSearches.InitialStatic{Float64},LineSearches.HagerZhang{Float64,Base.RefValue{Bool}},Optim.##23#25}”\n",
       "\n",
       "Julia fields:\n",
       "$manifold\n",
       "R conversion of Julia object of composite type “Optim.Flat”\n",
       "\n",
       "Julia fields:\n",
       "named list()\n",
       "\n",
       "$`alphaguess!`\n",
       "R conversion of Julia object of composite type “LineSearches.InitialStatic{Float64}”\n",
       "\n",
       "Julia fields:\n",
       "$alpha\n",
       "[1] 1\n",
       "\n",
       "$scaled\n",
       "[1] FALSE\n",
       "\n",
       "\n",
       "$`linesearch!`\n",
       "R conversion of Julia object of composite type “LineSearches.HagerZhang{Float64,Base.RefValue{Bool}}”\n",
       "\n",
       "Julia fields:\n",
       "$sigma\n",
       "[1] 0.9\n",
       "\n",
       "$linesearchmax\n",
       "[1] 50\n",
       "\n",
       "$psi3\n",
       "[1] 0.1\n",
       "\n",
       "$display\n",
       "[1] 0\n",
       "\n",
       "$epsilon\n",
       "[1] 1e-06\n",
       "\n",
       "$gamma\n",
       "[1] 0.66\n",
       "\n",
       "$mayterminate\n",
       "R conversion of Julia object of composite type “Base.RefValue{Bool}”\n",
       "\n",
       "Julia fields:\n",
       "$x\n",
       "[1] FALSE\n",
       "\n",
       "\n",
       "$alphamax\n",
       "NULL\n",
       "\n",
       "$delta\n",
       "[1] 0.1\n",
       "\n",
       "$rho\n",
       "[1] 5\n",
       "\n",
       "\n",
       "$initial_invH\n",
       "Unconvertible Julia object of class \"Optim.##23#25\"\n",
       "\n",
       "\n",
       "$g_converged\n",
       "[1] TRUE\n",
       "\n",
       "$f_converged\n",
       "[1] FALSE\n",
       "\n",
       "$f_increased\n",
       "[1] FALSE\n",
       "\n",
       "$minimizer\n",
       "[1] 1 1\n",
       "\n",
       "$x_abschange\n",
       "[1] 3.473239e-07\n",
       "\n",
       "$g_calls\n",
       "[1] 53\n",
       "\n",
       "$x_converged\n",
       "[1] FALSE\n",
       "\n",
       "$f_abschange\n",
       "[1] 6.588644e-14\n",
       "\n",
       "$g_residual\n",
       "[1] 2.333784e-09\n",
       "\n",
       "$minimum\n",
       "[1] 5.471433e-17\n",
       "\n",
       "$iterations\n",
       "[1] 16\n",
       "\n",
       "$trace\n",
       "list()\n",
       "\n",
       "$iteration_converged\n",
       "[1] FALSE\n",
       "\n",
       "$f_tol\n",
       "[1] 0\n",
       "\n",
       "$f_calls\n",
       "[1] 53\n",
       "\n",
       "$x_tol\n",
       "[1] 0\n",
       "\n",
       "$g_tol\n",
       "[1] 1e-08\n",
       "\n",
       "$h_calls\n",
       "[1] 0\n"
      ]
     },
     "metadata": {},
     "output_type": "display_data"
    }
   ],
   "source": [
    "JLreg"
   ]
  },
  {
   "cell_type": "code",
   "execution_count": null,
   "metadata": {},
   "outputs": [],
   "source": []
  }
 ],
 "metadata": {
  "kernelspec": {
   "display_name": "R",
   "language": "R",
   "name": "ir"
  },
  "language_info": {
   "codemirror_mode": "r",
   "file_extension": ".r",
   "mimetype": "text/x-r-source",
   "name": "R",
   "pygments_lexer": "r",
   "version": "3.4.1"
  }
 },
 "nbformat": 4,
 "nbformat_minor": 2
}
