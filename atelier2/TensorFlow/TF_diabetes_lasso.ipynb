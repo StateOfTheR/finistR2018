{
 "cells": [
  {
   "cell_type": "markdown",
   "metadata": {},
   "source": [
    "# Test basic Tensorflow features to adjust a sparse linear model"
   ]
  },
  {
   "cell_type": "markdown",
   "metadata": {},
   "source": [
    "## Packages import"
   ]
  },
  {
   "cell_type": "code",
   "execution_count": 1,
   "metadata": {},
   "outputs": [],
   "source": [
    "# import required libraries\n",
    "import matplotlib.pyplot as plt\n",
    "import numpy as np\n",
    "import tensorflow as tf\n",
    "from tensorflow.python.framework import ops\n",
    "ops.reset_default_graph()"
   ]
  },
  {
   "cell_type": "markdown",
   "metadata": {},
   "source": [
    "## Data import"
   ]
  },
  {
   "cell_type": "code",
   "execution_count": 2,
   "metadata": {},
   "outputs": [],
   "source": [
    "from sklearn import datasets\n",
    "from sklearn import preprocessing\n",
    "\n",
    "# diabetes = [(Sepal Length, Sepal Width, Petal Length, Petal Width)]\n",
    "diabetes = datasets.load_diabetes()\n",
    "data_X = preprocessing.scale(diabetes.data)\n",
    "data_y = preprocessing.scale(diabetes.target)\n",
    "n = int(data_X.shape[0])\n",
    "p = int(data_X.shape[1])"
   ]
  },
  {
   "cell_type": "markdown",
   "metadata": {},
   "source": [
    "## Tensorflow model initialization"
   ]
  },
  {
   "cell_type": "code",
   "execution_count": 3,
   "metadata": {},
   "outputs": [],
   "source": [
    "# Initialize graph\n",
    "session = tf.Session()\n",
    "\n",
    "# Initialize placeholders\n",
    "X = tf.placeholder(shape = [None, p], dtype = tf.float32)\n",
    "y = tf.placeholder(shape = [None]   , dtype = tf.float32)\n",
    "\n",
    "# Create parameters of linear regression\n",
    "beta = tf.Variable(tf.zeros(shape=[p, 1]))\n",
    "\n",
    "# loss function\n",
    "penalty_tuning = tf.constant(0.01/n)\n",
    "l1_penalty = tf.multiply(tf.reduce_sum(tf.abs(beta)), penalty_tuning)\n",
    "l2_loss  = tf.reduce_mean(tf.square(y - tf.matmul(X, beta)))\n",
    "lasso_loss = tf.add(l2_loss, l1_penalty)"
   ]
  },
  {
   "cell_type": "code",
   "execution_count": 4,
   "metadata": {},
   "outputs": [],
   "source": [
    "# Use stochastic gradient with constant step \n",
    "optimizer = tf.train.ProximalGradientDescentOptimizer(0.001, )\n",
    "\n",
    "# on step of training minimizes the l2 loss\n",
    "train_step = optimizer.minimize(lasso_loss)"
   ]
  },
  {
   "cell_type": "code",
   "execution_count": 5,
   "metadata": {},
   "outputs": [],
   "source": [
    "max_iter = int(1e4)\n",
    "threshold = 1e-3\n",
    "\n",
    "## Initialize Tensorflow optimizer\n",
    "init = tf.global_variables_initializer()\n",
    "session.run(init)"
   ]
  },
  {
   "cell_type": "code",
   "execution_count": 6,
   "metadata": {},
   "outputs": [],
   "source": [
    "loss_vec = []\n",
    "for i in range(max_iter):\n",
    "    session.run(train_step,  feed_dict = {X: data_X, y: data_y})\n",
    "    loss_ = session.run(lasso_loss,  feed_dict = {X: data_X, y: data_y})\n",
    "    loss_vec.append(loss_)\n",
    "    if (i+1)%10==0:\n",
    "        print('Step #' + str(i + 1), 'Loss = ' + str(loss_))        \n",
    "    if (i > 0):\n",
    "        if(np.abs(loss_vec[i]-loss_vec[i-1])) < threshold:\n",
    "            break"
   ]
  },
  {
   "cell_type": "code",
   "execution_count": 7,
   "metadata": {},
   "outputs": [
    {
     "name": "stdout",
     "output_type": "stream",
     "text": [
      "[[-2.2624436e-08]\n",
      " [-2.2624436e-08]\n",
      " [-2.2624436e-08]\n",
      " [-2.2624436e-08]\n",
      " [-2.2624436e-08]\n",
      " [ 2.2624436e-08]\n",
      " [ 2.2624436e-08]\n",
      " [ 2.2624436e-08]\n",
      " [ 2.2624436e-08]\n",
      " [-2.2624436e-08]]\n"
     ]
    }
   ],
   "source": [
    "# Get the optimal coefficients\n",
    "print(session.run(beta))"
   ]
  },
  {
   "cell_type": "code",
   "execution_count": 8,
   "metadata": {},
   "outputs": [
    {
     "data": {
      "image/png": "[encoded data removed]",
      "text/plain": [
       "<Figure size 432x288 with 1 Axes>"
      ]
     },
     "metadata": {},
     "output_type": "display_data"
    }
   ],
   "source": [
    "# Plot loss over time\n",
    "plt.semilogy(loss_vec, 'k-')\n",
    "plt.title('Loss per Generation')\n",
    "plt.xlabel('Generation')\n",
    "plt.ylabel('Loss')\n",
    "plt.show()"
   ]
  }
 ],
 "metadata": {
  "kernelspec": {
   "display_name": "Python 3",
   "language": "python",
   "name": "python3"
  },
  "language_info": {
   "codemirror_mode": {
    "name": "ipython",
    "version": 3
   },
   "file_extension": ".py",
   "mimetype": "text/x-python",
   "name": "python",
   "nbconvert_exporter": "python",
   "pygments_lexer": "ipython3",
   "version": "3.6.5"
  }
 },
 "nbformat": 4,
 "nbformat_minor": 2
}
