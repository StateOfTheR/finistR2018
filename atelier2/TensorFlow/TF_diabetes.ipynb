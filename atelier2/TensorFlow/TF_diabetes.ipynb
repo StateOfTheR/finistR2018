{
 "cells": [
  {
   "cell_type": "markdown",
   "metadata": {},
   "source": [
    "# Test basic Tensorflow features to adjust a linear model with (stochastic) gradient"
   ]
  },
  {
   "cell_type": "markdown",
   "metadata": {},
   "source": [
    "## Packages import"
   ]
  },
  {
   "cell_type": "code",
   "execution_count": 1,
   "metadata": {},
   "outputs": [],
   "source": [
    "# import required libraries\n",
    "import matplotlib.pyplot as plt\n",
    "import numpy as np\n",
    "import tensorflow as tf\n",
    "from tensorflow.python.framework import ops\n",
    "ops.reset_default_graph()"
   ]
  },
  {
   "cell_type": "markdown",
   "metadata": {},
   "source": [
    "## Data import"
   ]
  },
  {
   "cell_type": "code",
   "execution_count": 2,
   "metadata": {},
   "outputs": [],
   "source": [
    "from sklearn import datasets\n",
    "\n",
    "# diabetes regression data\n",
    "diabetes = datasets.load_diabetes()\n",
    "data_X = diabetes.data\n",
    "data_y = diabetes.target\n",
    "n = int(data_X.shape[0])\n",
    "p = int(data_X.shape[1])"
   ]
  },
  {
   "cell_type": "markdown",
   "metadata": {},
   "source": [
    "The features in the diabetes data set are the following:"
   ]
  },
  {
   "cell_type": "code",
   "execution_count": 3,
   "metadata": {},
   "outputs": [
    {
     "name": "stdout",
     "output_type": "stream",
     "text": [
      "['age', 'sex', 'bmi', 'bp', 's1', 's2', 's3', 's4', 's5', 's6']\n"
     ]
    }
   ],
   "source": [
    "print(diabetes.feature_names)"
   ]
  },
  {
   "cell_type": "markdown",
   "metadata": {},
   "source": [
    "## Tensorflow model initialization\n",
    "\n",
    "We initialize the TensorFlow object"
   ]
  },
  {
   "cell_type": "code",
   "execution_count": 4,
   "metadata": {},
   "outputs": [],
   "source": [
    "# Initialize graph\n",
    "session = tf.Session()"
   ]
  },
  {
   "cell_type": "markdown",
   "metadata": {},
   "source": [
    "Then we define some placeholder for the regressors and the response vector. A placeholder is simply a variable that we will assign data to at a \n",
    "later date"
   ]
  },
  {
   "cell_type": "code",
   "execution_count": 5,
   "metadata": {},
   "outputs": [],
   "source": [
    "# Initialize placeholders\n",
    "X = tf.placeholder(shape = [None, p], dtype = tf.float32)\n",
    "y = tf.placeholder(shape = [None]   , dtype = tf.float32)"
   ]
  },
  {
   "cell_type": "markdown",
   "metadata": {},
   "source": [
    "We then define the TF model: model parameters ($\\beta$ and $\\mu$), model output ($\\hat{y}$) and the loss function ($\\|\\|_2^2$/n)."
   ]
  },
  {
   "cell_type": "code",
   "execution_count": 6,
   "metadata": {},
   "outputs": [],
   "source": [
    "# Create parameters of linear regression\n",
    "beta = tf.Variable(tf.zeros(shape=[p, 1]))\n",
    "mu   = tf.Variable(tf.zeros(shape=[1, 1]))\n",
    "\n",
    "# Declare model operations\n",
    "y_hat = tf.add(tf.matmul(X, beta), mu)\n",
    "\n",
    "# loss function\n",
    "l2_loss  = tf.reduce_mean(tf.square(y - y_hat))"
   ]
  },
  {
   "cell_type": "markdown",
   "metadata": {},
   "source": [
    "We then use a gradient descent to optimize this loss:"
   ]
  },
  {
   "cell_type": "code",
   "execution_count": 7,
   "metadata": {},
   "outputs": [],
   "source": [
    "# Use stochastic gradient with constant step \n",
    "optimizer = tf.train.GradientDescentOptimizer(0.001)\n",
    "\n",
    "grad= optimizer.compute_gradients(l2_loss)\n",
    "\n",
    "# on step of training minimizes the l2 loss\n",
    "train_step = optimizer.minimize(l2_loss)"
   ]
  },
  {
   "cell_type": "markdown",
   "metadata": {},
   "source": [
    "## Optimization with fixed step gradient"
   ]
  },
  {
   "cell_type": "markdown",
   "metadata": {},
   "source": [
    "We define the algorithm parameters: the convergence threshold and the maximal number of iterations."
   ]
  },
  {
   "cell_type": "code",
   "execution_count": 8,
   "metadata": {},
   "outputs": [],
   "source": [
    "max_iter = int(1e4)\n",
    "threshold = 1e-2"
   ]
  },
  {
   "cell_type": "markdown",
   "metadata": {},
   "source": [
    "We also intialize the tensorflow process."
   ]
  },
  {
   "cell_type": "code",
   "execution_count": 9,
   "metadata": {},
   "outputs": [],
   "source": [
    "## Initialize Tensorflow optimizer\n",
    "init = tf.global_variables_initializer()\n",
    "session.run(init)"
   ]
  },
  {
   "cell_type": "code",
   "execution_count": 10,
   "metadata": {},
   "outputs": [
    {
     "name": "stdout",
     "output_type": "stream",
     "text": [
      "Step #250 Loss = 14435.801\n",
      "Step #500 Loss = 9055.919\n",
      "Step #750 Loss = 7078.6104\n",
      "Step #1000 Loss = 6352.1274\n",
      "Step #1250 Loss = 6085.124\n",
      "Step #1500 Loss = 5986.9077\n"
     ]
    }
   ],
   "source": [
    "loss_vec = []\n",
    "for i in range(max_iter):\n",
    "    session.run(train_step,  feed_dict = {X: data_X, y: data_y})\n",
    "    loss_ = session.run(l2_loss,  feed_dict = {X: data_X, y: data_y})\n",
    "    loss_vec.append(loss_)\n",
    "    if (i+1)%250==0:\n",
    "        print('Step #' + str(i + 1), 'Loss = ' + str(loss_))        \n",
    "    if (i > 0):\n",
    "        if(np.abs(loss_vec[i]-loss_vec[i-1])) < threshold:\n",
    "            break\n",
    "            \n"
   ]
  },
  {
   "cell_type": "markdown",
   "metadata": {},
   "source": [
    "We finally plot the loss across time:"
   ]
  },
  {
   "cell_type": "code",
   "execution_count": 11,
   "metadata": {},
   "outputs": [
    {
     "data": {
      "image/png": "[encoded data removed]",
      "text/plain": [
       "<Figure size 432x288 with 1 Axes>"
      ]
     },
     "metadata": {},
     "output_type": "display_data"
    }
   ],
   "source": [
    "# Plot loss over time\n",
    "plt.semilogy(loss_vec, 'k-')\n",
    "plt.title('Loss per Generation')\n",
    "plt.xlabel('Generation')\n",
    "plt.ylabel('Loss')\n",
    "plt.show()"
   ]
  },
  {
   "cell_type": "markdown",
   "metadata": {},
   "source": [
    "## Optimization with stochastic gradient"
   ]
  },
  {
   "cell_type": "markdown",
   "metadata": {},
   "source": [
    "We define the algorithm parameters: the batch size of the stochastioc gradient is n/10, then some convergence threshold and maximal number of iteration."
   ]
  },
  {
   "cell_type": "code",
   "execution_count": 12,
   "metadata": {},
   "outputs": [],
   "source": [
    "batch_size = n//10\n",
    "max_iter = int(5e3)"
   ]
  },
  {
   "cell_type": "markdown",
   "metadata": {},
   "source": [
    "We also intialize the tensorflow process."
   ]
  },
  {
   "cell_type": "code",
   "execution_count": 13,
   "metadata": {},
   "outputs": [],
   "source": [
    "## Initialize Tensorflow optimizer\n",
    "init = tf.global_variables_initializer()\n",
    "session.run(init)"
   ]
  },
  {
   "cell_type": "code",
   "execution_count": 14,
   "metadata": {},
   "outputs": [
    {
     "name": "stdout",
     "output_type": "stream",
     "text": [
      "Step #250 Loss = 13196.016\n",
      "Step #500 Loss = 9136.757\n",
      "Step #750 Loss = 5453.1235\n",
      "Step #1000 Loss = 4399.273\n",
      "Step #1250 Loss = 8637.779\n",
      "Step #1500 Loss = 5949.7803\n",
      "Step #1750 Loss = 6472.353\n",
      "Step #2000 Loss = 5073.4487\n",
      "Step #2250 Loss = 6396.3184\n",
      "Step #2500 Loss = 6266.03\n",
      "Step #2750 Loss = 5616.3047\n",
      "Step #3000 Loss = 6164.5703\n",
      "Step #3250 Loss = 7876.1665\n",
      "Step #3500 Loss = 6483.816\n",
      "Step #3750 Loss = 6640.1553\n",
      "Step #4000 Loss = 7554.5703\n",
      "Step #4250 Loss = 4988.466\n",
      "Step #4500 Loss = 8264.222\n",
      "Step #4750 Loss = 4732.379\n",
      "Step #5000 Loss = 6772.5435\n"
     ]
    }
   ],
   "source": [
    "loss_vec = []\n",
    "for i in range(max_iter):\n",
    "    rand_index = np.random.choice(n, size = batch_size)\n",
    "    X_sub = data_X[rand_index,:]\n",
    "    y_sub = data_y[rand_index]\n",
    "    session.run(train_step,  feed_dict = {X: X_sub, y: y_sub})\n",
    "    loss_ = session.run(l2_loss,  feed_dict = {X: X_sub, y: y_sub})\n",
    "    loss_vec.append(loss_)\n",
    "    if (i+1)%250==0:\n",
    "        print('Step #' + str(i + 1), 'Loss = ' + str(loss_))"
   ]
  },
  {
   "cell_type": "code",
   "execution_count": 15,
   "metadata": {},
   "outputs": [
    {
     "name": "stdout",
     "output_type": "stream",
     "text": [
      "[[ 0.16861208]\n",
      " [ 0.05302636]\n",
      " [ 0.4516306 ]\n",
      " [ 0.3152672 ]\n",
      " [ 0.18493353]\n",
      " [ 0.15921558]\n",
      " [-0.31653482]\n",
      " [ 0.35416198]\n",
      " [ 0.4484086 ]\n",
      " [ 0.2732467 ]]\n",
      "[[151.695]]\n"
     ]
    }
   ],
   "source": [
    "print(session.run(beta))\n",
    "print(session.run(mu))"
   ]
  },
  {
   "cell_type": "markdown",
   "metadata": {},
   "source": [
    "And plot the loss function:"
   ]
  },
  {
   "cell_type": "code",
   "execution_count": 16,
   "metadata": {},
   "outputs": [
    {
     "data": {
      "image/png": "[encoded data removed]",
      "text/plain": [
       "<Figure size 432x288 with 1 Axes>"
      ]
     },
     "metadata": {},
     "output_type": "display_data"
    }
   ],
   "source": [
    "# Plot loss over time\n",
    "plt.semilogy(loss_vec, 'k-')\n",
    "plt.title('Loss per Generation')\n",
    "plt.xlabel('Generation')\n",
    "plt.ylabel('Loss')\n",
    "plt.show()"
   ]
  },
  {
   "cell_type": "code",
   "execution_count": 17,
   "metadata": {},
   "outputs": [],
   "source": [
    "session.close()"
   ]
  }
 ],
 "metadata": {
  "kernelspec": {
   "display_name": "Python 3",
   "language": "python",
   "name": "python3"
  },
  "language_info": {
   "codemirror_mode": {
    "name": "ipython",
    "version": 3
   },
   "file_extension": ".py",
   "mimetype": "text/x-python",
   "name": "python",
   "nbconvert_exporter": "python",
   "pygments_lexer": "ipython3",
   "version": "3.6.5"
  }
 },
 "nbformat": 4,
 "nbformat_minor": 2
}
