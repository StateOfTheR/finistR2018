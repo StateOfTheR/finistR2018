{
 "cells": [
  {
   "cell_type": "code",
   "execution_count": 2,
   "metadata": {},
   "outputs": [],
   "source": [
    "using Optim, LineSearches"
   ]
  },
  {
   "cell_type": "code",
   "execution_count": 3,
   "metadata": {},
   "outputs": [
    {
     "data": {
      "text/plain": [
       "Results of Optimization Algorithm\n",
       " * Algorithm: BFGS\n",
       " * Starting Point: [0.0,0.0]\n",
       " * Minimizer: [0.9999999926033423,0.9999999852005353]\n",
       " * Minimum: 5.471433e-17\n",
       " * Iterations: 16\n",
       " * Convergence: true\n",
       "   * |x - x'| ≤ 0.0e+00: false \n",
       "     |x - x'| = 3.47e-07 \n",
       "   * |f(x) - f(x')| ≤ 0.0e+00 |f(x)|: false\n",
       "     |f(x) - f(x')| = 1.20e+03 |f(x)|\n",
       "   * |g(x)| ≤ 1.0e-08: true \n",
       "     |g(x)| = 2.33e-09 \n",
       "   * Stopped by an increasing objective: false\n",
       "   * Reached Maximum Number of Iterations: false\n",
       " * Objective Calls: 53\n",
       " * Gradient Calls: 53"
      ]
     },
     "execution_count": 3,
     "metadata": {},
     "output_type": "execute_result"
    }
   ],
   "source": [
    "rosenbrock(x) =  (1.0 - x[1])^2 + 100.0 * (x[2] - x[1]^2)^2\n",
    "result = optimize(rosenbrock, zeros(2), BFGS())"
   ]
  },
  {
   "cell_type": "code",
   "execution_count": 4,
   "metadata": {},
   "outputs": [
    {
     "data": {
      "text/plain": [
       "Results of Optimization Algorithm\n",
       " * Algorithm: BFGS\n",
       " * Starting Point: [0.0,0.0]\n",
       " * Minimizer: [0.9999999926655744,0.9999999853309254]\n",
       " * Minimum: 5.379380e-17\n",
       " * Iterations: 23\n",
       " * Convergence: true\n",
       "   * |x - x'| ≤ 0.0e+00: false \n",
       "     |x - x'| = 1.13e-09 \n",
       "   * |f(x) - f(x')| ≤ 0.0e+00 |f(x)|: false\n",
       "     |f(x) - f(x')| = 1.57e-01 |f(x)|\n",
       "   * |g(x)| ≤ 1.0e-08: true \n",
       "     |g(x)| = 8.79e-11 \n",
       "   * Stopped by an increasing objective: false\n",
       "   * Reached Maximum Number of Iterations: false\n",
       " * Objective Calls: 31\n",
       " * Gradient Calls: 24"
      ]
     },
     "execution_count": 4,
     "metadata": {},
     "output_type": "execute_result"
    }
   ],
   "source": [
    " optimize(rosenbrock, zeros(2), BFGS(linesearch = LineSearches.BackTracking()))"
   ]
  },
  {
   "cell_type": "code",
   "execution_count": 5,
   "metadata": {},
   "outputs": [
    {
     "data": {
      "text/plain": [
       "Results of Optimization Algorithm\n",
       " * Algorithm: BFGS\n",
       " * Starting Point: [0.0,0.0]\n",
       " * Minimizer: [0.9999999926644578,0.9999999853284671]\n",
       " * Minimum: 5.381020e-17\n",
       " * Iterations: 23\n",
       " * Convergence: true\n",
       "   * |x - x'| ≤ 0.0e+00: false \n",
       "     |x - x'| = 4.73e-09 \n",
       "   * |f(x) - f(x')| ≤ 0.0e+00 |f(x)|: false\n",
       "     |f(x) - f(x')| = 9.42e-01 |f(x)|\n",
       "   * |g(x)| ≤ 1.0e-08: true \n",
       "     |g(x)| = 1.76e-10 \n",
       "   * Stopped by an increasing objective: false\n",
       "   * Reached Maximum Number of Iterations: false\n",
       " * Objective Calls: 29\n",
       " * Gradient Calls: 24"
      ]
     },
     "execution_count": 5,
     "metadata": {},
     "output_type": "execute_result"
    }
   ],
   "source": [
    "optimize(rosenbrock, zeros(2), BFGS(linesearch = LineSearches.BackTracking(order = 2)))"
   ]
  }
 ],
 "metadata": {
  "kernelspec": {
   "display_name": "Julia 0.7.0",
   "language": "julia",
   "name": "julia-0.7"
  },
  "language_info": {
   "file_extension": ".jl",
   "mimetype": "application/julia",
   "name": "julia",
   "version": "0.7.0"
  }
 },
 "nbformat": 4,
 "nbformat_minor": 2
}
