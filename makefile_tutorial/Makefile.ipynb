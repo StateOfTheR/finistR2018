{
 "cells": [
  {
   "cell_type": "markdown",
   "metadata": {
    "slideshow": {
     "slide_type": "slide"
    }
   },
   "source": [
    "# Main program written in C++\n",
    "\n",
    "[Practical Makefiles, by example](http://nuclear.mutantstargoat.com/articles/make/)"
   ]
  },
  {
   "cell_type": "code",
   "execution_count": null,
   "metadata": {
    "slideshow": {
     "slide_type": "fragment"
    }
   },
   "outputs": [],
   "source": [
    "%%file main.cpp\n",
    "void operations();\n",
    "\n",
    "int main(int argc, const char **argv) {\n",
    "\n",
    "    operations();\n",
    "    \n",
    "    return 0;\n",
    "}\n"
   ]
  },
  {
   "cell_type": "markdown",
   "metadata": {
    "slideshow": {
     "slide_type": "slide"
    }
   },
   "source": [
    "# Function that uses Armadillo also in C++"
   ]
  },
  {
   "cell_type": "code",
   "execution_count": null,
   "metadata": {
    "slideshow": {
     "slide_type": "fragment"
    }
   },
   "outputs": [],
   "source": [
    "%%file obj_armadillo.cpp\n",
    "#include <iostream>\n",
    "#include <armadillo>\n",
    "\n",
    "void operations() {\n",
    "    // Initialize the random generator\n",
    "    arma::arma_rng::set_seed_random();\n",
    "    \n",
    "    // Create a 4x4 random matrix and print it on the screen\n",
    "    arma::Mat<double> A = arma::randu(4,4);\n",
    "    std::cout << \"A:\\n\" << A << \"\\n\";\n",
    "    \n",
    "    // Multiply A with his transpose:\n",
    "    std::cout << \"A * A.t() =\\n\";\n",
    "    std::cout << A * A.t() << \"\\n\";\n",
    "    \n",
    "    // Access/Modify rows and columns from the array:\n",
    "    A.row(0) = A.row(1) + A.row(3);\n",
    "    A.col(3).zeros();\n",
    "    std::cout << \"add rows 1 and 3, store result in row 0, also fill 4th column with zeros:\\n\";\n",
    "    std::cout << \"A:\\n\" << A << \"\\n\";\n",
    "    \n",
    "    // Create a new diagonal matrix using the main diagonal of A:\n",
    "    arma::Mat<double>B = arma::diagmat(A);\n",
    "    std::cout << \"B:\\n\" << B << \"\\n\";\n",
    "    \n",
    "    // Save matrices A and B:\n",
    "    A.save(\"A_mat.txt\", arma::arma_ascii);\n",
    "    B.save(\"B_mat.txt\", arma::arma_ascii);\n",
    "    \n",
    "}"
   ]
  },
  {
   "cell_type": "markdown",
   "metadata": {
    "slideshow": {
     "slide_type": "slide"
    }
   },
   "source": [
    "# Build executable exe_armadillo with command line"
   ]
  },
  {
   "cell_type": "code",
   "execution_count": null,
   "metadata": {
    "slideshow": {
     "slide_type": "fragment"
    }
   },
   "outputs": [],
   "source": [
    "%%bash\n",
    "g++ -c obj_armadillo.cpp -I/usr/local/include # create the file obj_armadillo.o\n",
    "g++ -o exe_armadillo main.cpp obj_armadillo.o -L/usr/local/lib -larmadillo # create the executable exe_armadillo.o"
   ]
  },
  {
   "cell_type": "markdown",
   "metadata": {
    "slideshow": {
     "slide_type": "fragment"
    }
   },
   "source": [
    "- `-I` option flag to set headers file directory (`.h`) needed to build every object files (CXXFLAGS).\n",
    "- `-L` option flag to set library directory (`.a`) needed only to build executable (LDFLAGS)"
   ]
  },
  {
   "cell_type": "markdown",
   "metadata": {
    "slideshow": {
     "slide_type": "slide"
    }
   },
   "source": [
    "# Test the program"
   ]
  },
  {
   "cell_type": "code",
   "execution_count": null,
   "metadata": {
    "slideshow": {
     "slide_type": "fragment"
    }
   },
   "outputs": [],
   "source": [
    "%%bash\n",
    "./exe_armadillo\n",
    "rm ./exe_armadillo"
   ]
  },
  {
   "cell_type": "markdown",
   "metadata": {
    "slideshow": {
     "slide_type": "slide"
    }
   },
   "source": [
    "# First Makefile"
   ]
  },
  {
   "cell_type": "code",
   "execution_count": null,
   "metadata": {
    "slideshow": {
     "slide_type": "fragment"
    }
   },
   "outputs": [],
   "source": [
    "%%file Makefile\n",
    "\n",
    "default: exe_armadillo\n",
    "\n",
    "obj_armadillo.o: obj_armadillo.cpp\n",
    "\tg++ -o $@ -c $^ -I/usr/local/include \n",
    "    \n",
    "exe_armadillo: main.cpp obj_armadillo.o\n",
    "\tg++ -o $@ $^ -L/usr/local/lib -larmadillo\n",
    "    \n",
    "clean:\n",
    "\trm *.txt *.o exe_armadillo"
   ]
  },
  {
   "cell_type": "markdown",
   "metadata": {
    "slideshow": {
     "slide_type": "slide"
    }
   },
   "source": [
    "# Test the program"
   ]
  },
  {
   "cell_type": "code",
   "execution_count": null,
   "metadata": {
    "slideshow": {
     "slide_type": "fragment"
    }
   },
   "outputs": [],
   "source": [
    "%%bash\n",
    "make\n",
    "./exe_armadillo\n",
    "make clean"
   ]
  },
  {
   "cell_type": "markdown",
   "metadata": {
    "slideshow": {
     "slide_type": "slide"
    }
   },
   "source": [
    "# Using variables "
   ]
  },
  {
   "cell_type": "code",
   "execution_count": null,
   "metadata": {
    "slideshow": {
     "slide_type": "fragment"
    }
   },
   "outputs": [],
   "source": [
    "%%file Makefile\n",
    "\n",
    "default: exe_armadillo # default target\n",
    "\n",
    "CXX                := g++   # := means \"change CXX only if it is undefined\"\n",
    "ARMADILLO_INCDIR   = /usr/local/include\n",
    "ARMADILLO_LIBDIR   = /usr/local/lib\n",
    "ARMADILLO_INC_FLAGS = -I${ARMADILLO_INCDIR}\n",
    "ARMADILLO_LIB_FLAGS = -L${ARMADILLO_LIBDIR} -larmadillo\n",
    "\n",
    "obj_armadillo.o: obj_armadillo.cpp\n",
    "\t${CXX} -c -o $@ $^ ${ARMADILLO_INC_FLAGS} # $@ : target $^: dependencies\n",
    "    \n",
    "exe_armadillo: main.cpp obj_armadillo.o\n",
    "\t${CXX} -o $@ $^ ${ARMADILLO_LIB_FLAGS}\n",
    "    \n",
    "clean:\n",
    "\trm *.txt *.o exe_armadillo\n"
   ]
  },
  {
   "cell_type": "code",
   "execution_count": null,
   "metadata": {
    "slideshow": {
     "slide_type": "slide"
    }
   },
   "outputs": [],
   "source": [
    "%%bash\n",
    "make\n",
    "./exe_armadillo\n",
    "make clean"
   ]
  },
  {
   "cell_type": "markdown",
   "metadata": {
    "slideshow": {
     "slide_type": "slide"
    }
   },
   "source": [
    "# Add rule to build object files"
   ]
  },
  {
   "cell_type": "code",
   "execution_count": null,
   "metadata": {
    "slideshow": {
     "slide_type": "fragment"
    }
   },
   "outputs": [],
   "source": [
    "%%file Makefile\n",
    "\n",
    "default: exe_armadillo\n",
    "\n",
    "CXX                 := g++\n",
    "ARMADILLO_INCDIR    = /usr/local/include\n",
    "ARMADILLO_LIBDIR    = /usr/local/lib\n",
    "ARMADILLO_INC_FLAGS = -I${ARMADILLO_INCDIR}\n",
    "ARMADILLO_LIB_FLAGS = -L${ARMADILLO_LIBDIR} -larmadillo\n",
    "\n",
    "CXXFLAGS += ${ARMADILLO_INC_FLAGS}\n",
    "LDFLAGS  += ${ARMADILLO_LIB_FLAGS}\n",
    "\n",
    "SRCS = $(wildcard *.cpp)  # List all cpp files\n",
    "OBJS = $(SRCS:.cpp=.o)    # List all matching object files\n",
    "    \n",
    ".cpp.o: # $< the source file .cpp $@ the target .o\n",
    "\t$(CXX) $(CXXFLAGS) -c $< -o $@   \n",
    "    \n",
    "exe_armadillo: $(OBJS)\n",
    "\t${CXX} -o $@ $^ $(CXXFLAGS) ${LDFLAGS}\n",
    "    \n",
    "clean:\n",
    "\trm *.txt *.o exe_armadillo"
   ]
  },
  {
   "cell_type": "code",
   "execution_count": null,
   "metadata": {
    "slideshow": {
     "slide_type": "slide"
    }
   },
   "outputs": [],
   "source": [
    "%%bash\n",
    "make\n",
    "./exe_armadillo\n",
    "make clean"
   ]
  },
  {
   "cell_type": "code",
   "execution_count": null,
   "metadata": {},
   "outputs": [],
   "source": []
  }
 ],
 "metadata": {
  "celltoolbar": "Slideshow",
  "kernelspec": {
   "display_name": "Python 3",
   "language": "python",
   "name": "python3"
  },
  "language_info": {
   "codemirror_mode": {
    "name": "ipython",
    "version": 3
   },
   "file_extension": ".py",
   "mimetype": "text/x-python",
   "name": "python",
   "nbconvert_exporter": "python",
   "pygments_lexer": "ipython3",
   "version": "3.7.0"
  }
 },
 "nbformat": 4,
 "nbformat_minor": 2
}
